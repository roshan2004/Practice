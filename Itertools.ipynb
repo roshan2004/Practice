{
  "nbformat": 4,
  "nbformat_minor": 0,
  "metadata": {
    "colab": {
      "name": "Itertools.ipynb",
      "provenance": []
    },
    "kernelspec": {
      "name": "python3",
      "display_name": "Python 3"
    },
    "language_info": {
      "name": "python"
    }
  },
  "cells": [
    {
      "cell_type": "code",
      "metadata": {
        "id": "lqSqwwzucDR_"
      },
      "source": [
        "import itertools"
      ],
      "execution_count": 39,
      "outputs": []
    },
    {
      "cell_type": "code",
      "metadata": {
        "id": "CGLS6-2scNAN"
      },
      "source": [
        "vals = [10,20,30,40,50,40,30]"
      ],
      "execution_count": 40,
      "outputs": []
    },
    {
      "cell_type": "code",
      "metadata": {
        "colab": {
          "base_uri": "https://localhost:8080/"
        },
        "id": "sCvL9XyvcWTt",
        "outputId": "06f250f6-51c1-4416-8bc4-7ce2eeb5816b"
      },
      "source": [
        "list(itertools.dropwhile(lambda x : x < 40, vals))"
      ],
      "execution_count": 41,
      "outputs": [
        {
          "output_type": "execute_result",
          "data": {
            "text/plain": [
              "[40, 50, 40, 30]"
            ]
          },
          "metadata": {
            "tags": []
          },
          "execution_count": 41
        }
      ]
    },
    {
      "cell_type": "code",
      "metadata": {
        "colab": {
          "base_uri": "https://localhost:8080/"
        },
        "id": "80F6rfEwcgtd",
        "outputId": "743ae7f4-d37a-467d-c452-b526ec6ab034"
      },
      "source": [
        "list(itertools.takewhile(lambda x : x < 40, vals))"
      ],
      "execution_count": 42,
      "outputs": [
        {
          "output_type": "execute_result",
          "data": {
            "text/plain": [
              "[10, 20, 30]"
            ]
          },
          "metadata": {
            "tags": []
          },
          "execution_count": 42
        }
      ]
    },
    {
      "cell_type": "code",
      "metadata": {
        "colab": {
          "base_uri": "https://localhost:8080/"
        },
        "id": "51Sb2igNczl4",
        "outputId": "0dbab0be-b675-4241-e0d7-49d36dc385ff"
      },
      "source": [
        "list(itertools.chain('1234', 'ABCD'))\n"
      ],
      "execution_count": 43,
      "outputs": [
        {
          "output_type": "execute_result",
          "data": {
            "text/plain": [
              "['1', '2', '3', '4', 'A', 'B', 'C', 'D']"
            ]
          },
          "metadata": {
            "tags": []
          },
          "execution_count": 43
        }
      ]
    },
    {
      "cell_type": "code",
      "metadata": {
        "colab": {
          "base_uri": "https://localhost:8080/"
        },
        "id": "xtuc6gJsdHNe",
        "outputId": "759309ce-ff48-42ce-9337-a74c840f7ee5"
      },
      "source": [
        "list(itertools.accumulate(vals))"
      ],
      "execution_count": 44,
      "outputs": [
        {
          "output_type": "execute_result",
          "data": {
            "text/plain": [
              "[10, 30, 60, 100, 150, 190, 220]"
            ]
          },
          "metadata": {
            "tags": []
          },
          "execution_count": 44
        }
      ]
    },
    {
      "cell_type": "code",
      "metadata": {
        "id": "5OfBLh79dVyZ"
      },
      "source": [
        "seq1 = 'ABC'"
      ],
      "execution_count": 45,
      "outputs": []
    },
    {
      "cell_type": "code",
      "metadata": {
        "id": "FIJfWtSidilC"
      },
      "source": [
        "cyc = itertools.cycle(seq1)"
      ],
      "execution_count": 46,
      "outputs": []
    },
    {
      "cell_type": "code",
      "metadata": {
        "colab": {
          "base_uri": "https://localhost:8080/",
          "height": 35
        },
        "id": "nlgWjLf5do1X",
        "outputId": "11538850-09a3-421f-a08c-2496cd99d286"
      },
      "source": [
        "next(cyc)"
      ],
      "execution_count": 47,
      "outputs": [
        {
          "output_type": "execute_result",
          "data": {
            "application/vnd.google.colaboratory.intrinsic+json": {
              "type": "string"
            },
            "text/plain": [
              "'A'"
            ]
          },
          "metadata": {
            "tags": []
          },
          "execution_count": 47
        }
      ]
    },
    {
      "cell_type": "code",
      "metadata": {
        "colab": {
          "base_uri": "https://localhost:8080/",
          "height": 35
        },
        "id": "ZvyQhH6tdqOP",
        "outputId": "bb863f2b-0c9c-4032-9f53-24892feb4349"
      },
      "source": [
        "next(cyc)"
      ],
      "execution_count": 48,
      "outputs": [
        {
          "output_type": "execute_result",
          "data": {
            "application/vnd.google.colaboratory.intrinsic+json": {
              "type": "string"
            },
            "text/plain": [
              "'B'"
            ]
          },
          "metadata": {
            "tags": []
          },
          "execution_count": 48
        }
      ]
    },
    {
      "cell_type": "code",
      "metadata": {
        "colab": {
          "base_uri": "https://localhost:8080/"
        },
        "id": "G1iev_lXdruI",
        "outputId": "e6af52fc-31e8-4eea-d3a5-b0861ab39204"
      },
      "source": [
        "for _ in range(10):\n",
        "  print(next(cyc))"
      ],
      "execution_count": 49,
      "outputs": [
        {
          "output_type": "stream",
          "text": [
            "C\n",
            "A\n",
            "B\n",
            "C\n",
            "A\n",
            "B\n",
            "C\n",
            "A\n",
            "B\n",
            "C\n"
          ],
          "name": "stdout"
        }
      ]
    },
    {
      "cell_type": "code",
      "metadata": {
        "id": "0KQVaNTLdx5o"
      },
      "source": [
        "count1 = itertools.count(100, 10)"
      ],
      "execution_count": 50,
      "outputs": []
    },
    {
      "cell_type": "code",
      "metadata": {
        "colab": {
          "base_uri": "https://localhost:8080/"
        },
        "id": "gKoAGPufd-lK",
        "outputId": "42b45d65-d7dd-4570-fe69-cf74d50a4396"
      },
      "source": [
        "for _ in range(5):\n",
        "  print(next(count1))"
      ],
      "execution_count": 51,
      "outputs": [
        {
          "output_type": "stream",
          "text": [
            "100\n",
            "110\n",
            "120\n",
            "130\n",
            "140\n"
          ],
          "name": "stdout"
        }
      ]
    },
    {
      "cell_type": "code",
      "metadata": {
        "id": "lobzpG9CeDq8"
      },
      "source": [
        "from functools import reduce"
      ],
      "execution_count": 52,
      "outputs": []
    },
    {
      "cell_type": "code",
      "metadata": {
        "colab": {
          "base_uri": "https://localhost:8080/"
        },
        "id": "yn2kbyhtyAwC",
        "outputId": "f2aff74f-3e98-4413-f5ce-dc3df87db344"
      },
      "source": [
        "reduce(lambda x, y: x -y, [1,2,3,4,5])"
      ],
      "execution_count": 53,
      "outputs": [
        {
          "output_type": "execute_result",
          "data": {
            "text/plain": [
              "-13"
            ]
          },
          "metadata": {
            "tags": []
          },
          "execution_count": 53
        }
      ]
    },
    {
      "cell_type": "code",
      "metadata": {
        "colab": {
          "base_uri": "https://localhost:8080/"
        },
        "id": "TgSrEWK7yMDN",
        "outputId": "b2361cea-a523-43a2-8545-58064f4a722e"
      },
      "source": [
        "list(itertools.product([1,2], ['a', 'b']))"
      ],
      "execution_count": 54,
      "outputs": [
        {
          "output_type": "execute_result",
          "data": {
            "text/plain": [
              "[(1, 'a'), (1, 'b'), (2, 'a'), (2, 'b')]"
            ]
          },
          "metadata": {
            "tags": []
          },
          "execution_count": 54
        }
      ]
    },
    {
      "cell_type": "code",
      "metadata": {
        "colab": {
          "base_uri": "https://localhost:8080/"
        },
        "id": "PGWy9WOFzLJ2",
        "outputId": "8c380b8f-aa10-44b0-f0a7-b453b36a0016"
      },
      "source": [
        "list(itertools.combinations([1,2,3],2))"
      ],
      "execution_count": 55,
      "outputs": [
        {
          "output_type": "execute_result",
          "data": {
            "text/plain": [
              "[(1, 2), (1, 3), (2, 3)]"
            ]
          },
          "metadata": {
            "tags": []
          },
          "execution_count": 55
        }
      ]
    },
    {
      "cell_type": "code",
      "metadata": {
        "id": "-Jktf0BFz6DZ"
      },
      "source": [
        "bills = [20, 20, 20, 10, 10, 10, 10, 10, 5,5,1,1,1,1,1]"
      ],
      "execution_count": 56,
      "outputs": []
    },
    {
      "cell_type": "code",
      "metadata": {
        "colab": {
          "base_uri": "https://localhost:8080/"
        },
        "id": "mK55sXgx4SBe",
        "outputId": "b35bb6ea-d882-4301-ef63-a80a1c7bb711"
      },
      "source": [
        "bills"
      ],
      "execution_count": 57,
      "outputs": [
        {
          "output_type": "execute_result",
          "data": {
            "text/plain": [
              "[20, 20, 20, 10, 10, 10, 10, 10, 5, 5, 1, 1, 1, 1, 1]"
            ]
          },
          "metadata": {
            "tags": []
          },
          "execution_count": 57
        }
      ]
    },
    {
      "cell_type": "code",
      "metadata": {
        "id": "Kz9J5COg4SjE"
      },
      "source": [
        "# You have three $ 20 bills, five $ 10 bills, two $ 5 dollar bills, and five $ 1 bills. How many ways you can make a \n",
        "# change for a 100 $ bill?\n",
        "makes_100 = []\n",
        "for n in range(1,len(bills)+1):\n",
        "  for combination in itertools.combinations(bills, n):\n",
        "    if sum(combination) == 100:\n",
        "      makes_100.append(combination)\n"
      ],
      "execution_count": 58,
      "outputs": []
    },
    {
      "cell_type": "code",
      "metadata": {
        "colab": {
          "base_uri": "https://localhost:8080/"
        },
        "id": "3ztBtaSJ5VG8",
        "outputId": "227f1b33-89fa-4ea7-d067-41f827ee240b"
      },
      "source": [
        "makes_100"
      ],
      "execution_count": 59,
      "outputs": [
        {
          "output_type": "execute_result",
          "data": {
            "text/plain": [
              "[(20, 20, 20, 10, 10, 10, 10),\n",
              " (20, 20, 20, 10, 10, 10, 10),\n",
              " (20, 20, 20, 10, 10, 10, 10),\n",
              " (20, 20, 20, 10, 10, 10, 10),\n",
              " (20, 20, 20, 10, 10, 10, 10),\n",
              " (20, 20, 20, 10, 10, 10, 5, 5),\n",
              " (20, 20, 20, 10, 10, 10, 5, 5),\n",
              " (20, 20, 20, 10, 10, 10, 5, 5),\n",
              " (20, 20, 20, 10, 10, 10, 5, 5),\n",
              " (20, 20, 20, 10, 10, 10, 5, 5),\n",
              " (20, 20, 20, 10, 10, 10, 5, 5),\n",
              " (20, 20, 20, 10, 10, 10, 5, 5),\n",
              " (20, 20, 20, 10, 10, 10, 5, 5),\n",
              " (20, 20, 20, 10, 10, 10, 5, 5),\n",
              " (20, 20, 20, 10, 10, 10, 5, 5),\n",
              " (20, 20, 10, 10, 10, 10, 10, 5, 5),\n",
              " (20, 20, 10, 10, 10, 10, 10, 5, 5),\n",
              " (20, 20, 10, 10, 10, 10, 10, 5, 5),\n",
              " (20, 20, 20, 10, 10, 10, 5, 1, 1, 1, 1, 1),\n",
              " (20, 20, 20, 10, 10, 10, 5, 1, 1, 1, 1, 1),\n",
              " (20, 20, 20, 10, 10, 10, 5, 1, 1, 1, 1, 1),\n",
              " (20, 20, 20, 10, 10, 10, 5, 1, 1, 1, 1, 1),\n",
              " (20, 20, 20, 10, 10, 10, 5, 1, 1, 1, 1, 1),\n",
              " (20, 20, 20, 10, 10, 10, 5, 1, 1, 1, 1, 1),\n",
              " (20, 20, 20, 10, 10, 10, 5, 1, 1, 1, 1, 1),\n",
              " (20, 20, 20, 10, 10, 10, 5, 1, 1, 1, 1, 1),\n",
              " (20, 20, 20, 10, 10, 10, 5, 1, 1, 1, 1, 1),\n",
              " (20, 20, 20, 10, 10, 10, 5, 1, 1, 1, 1, 1),\n",
              " (20, 20, 20, 10, 10, 10, 5, 1, 1, 1, 1, 1),\n",
              " (20, 20, 20, 10, 10, 10, 5, 1, 1, 1, 1, 1),\n",
              " (20, 20, 20, 10, 10, 10, 5, 1, 1, 1, 1, 1),\n",
              " (20, 20, 20, 10, 10, 10, 5, 1, 1, 1, 1, 1),\n",
              " (20, 20, 20, 10, 10, 10, 5, 1, 1, 1, 1, 1),\n",
              " (20, 20, 20, 10, 10, 10, 5, 1, 1, 1, 1, 1),\n",
              " (20, 20, 20, 10, 10, 10, 5, 1, 1, 1, 1, 1),\n",
              " (20, 20, 20, 10, 10, 10, 5, 1, 1, 1, 1, 1),\n",
              " (20, 20, 20, 10, 10, 10, 5, 1, 1, 1, 1, 1),\n",
              " (20, 20, 20, 10, 10, 10, 5, 1, 1, 1, 1, 1),\n",
              " (20, 20, 10, 10, 10, 10, 10, 5, 1, 1, 1, 1, 1),\n",
              " (20, 20, 10, 10, 10, 10, 10, 5, 1, 1, 1, 1, 1),\n",
              " (20, 20, 10, 10, 10, 10, 10, 5, 1, 1, 1, 1, 1),\n",
              " (20, 20, 10, 10, 10, 10, 10, 5, 1, 1, 1, 1, 1),\n",
              " (20, 20, 10, 10, 10, 10, 10, 5, 1, 1, 1, 1, 1),\n",
              " (20, 20, 10, 10, 10, 10, 10, 5, 1, 1, 1, 1, 1)]"
            ]
          },
          "metadata": {
            "tags": []
          },
          "execution_count": 59
        }
      ]
    },
    {
      "cell_type": "code",
      "metadata": {
        "colab": {
          "base_uri": "https://localhost:8080/"
        },
        "id": "oCTDPtWw5WH8",
        "outputId": "0cf9e005-b651-448a-c706-8884e8d78026"
      },
      "source": [
        "set(makes_100)"
      ],
      "execution_count": 60,
      "outputs": [
        {
          "output_type": "execute_result",
          "data": {
            "text/plain": [
              "{(20, 20, 10, 10, 10, 10, 10, 5, 1, 1, 1, 1, 1),\n",
              " (20, 20, 10, 10, 10, 10, 10, 5, 5),\n",
              " (20, 20, 20, 10, 10, 10, 5, 1, 1, 1, 1, 1),\n",
              " (20, 20, 20, 10, 10, 10, 5, 5),\n",
              " (20, 20, 20, 10, 10, 10, 10)}"
            ]
          },
          "metadata": {
            "tags": []
          },
          "execution_count": 60
        }
      ]
    },
    {
      "cell_type": "code",
      "metadata": {
        "id": "20tLFrTs5eYs"
      },
      "source": [
        "# So, there are 5 ways to make a change for a $ 100 bill"
      ],
      "execution_count": 61,
      "outputs": []
    },
    {
      "cell_type": "code",
      "metadata": {
        "colab": {
          "base_uri": "https://localhost:8080/"
        },
        "id": "daOPSk4g51B5",
        "outputId": "827ca5cb-310b-47a8-9f25-9a29707cf0cf"
      },
      "source": [
        "list(itertools.combinations_with_replacement([1,2],2))"
      ],
      "execution_count": 62,
      "outputs": [
        {
          "output_type": "execute_result",
          "data": {
            "text/plain": [
              "[(1, 1), (1, 2), (2, 2)]"
            ]
          },
          "metadata": {
            "tags": []
          },
          "execution_count": 62
        }
      ]
    },
    {
      "cell_type": "code",
      "metadata": {
        "id": "ikjhHFqK8E3S"
      },
      "source": [
        "# How many ways ways are there to make change for a $ 100 bill using any number of $ 50, $ 20 , $ 10, $ 5 and $ 1 dollar bills?"
      ],
      "execution_count": 63,
      "outputs": []
    },
    {
      "cell_type": "code",
      "metadata": {
        "id": "QTuk1Ecf8kBW"
      },
      "source": [
        "bills = [50, 20, 10, 5 ,1]\n",
        "make_100 = []\n",
        "for i in range(1, 101):\n",
        "  for combination in itertools.combinations_with_replacement(bills, i):\n",
        "    if sum(combination) == 100:\n",
        "      make_100.append(combination)\n"
      ],
      "execution_count": 64,
      "outputs": []
    },
    {
      "cell_type": "code",
      "metadata": {
        "colab": {
          "base_uri": "https://localhost:8080/"
        },
        "id": "atsDkiUL9Jco",
        "outputId": "d180b46c-bab1-4a87-d845-3a95a2e438f8"
      },
      "source": [
        "len(make_100)"
      ],
      "execution_count": 65,
      "outputs": [
        {
          "output_type": "execute_result",
          "data": {
            "text/plain": [
              "343"
            ]
          },
          "metadata": {
            "tags": []
          },
          "execution_count": 65
        }
      ]
    },
    {
      "cell_type": "code",
      "metadata": {
        "colab": {
          "base_uri": "https://localhost:8080/"
        },
        "id": "-mM-vB3X93ue",
        "outputId": "95cb5a11-0ef0-4acf-991f-a0cd7e3aa8cc"
      },
      "source": [
        "list(itertools.permutations(['a', 'b', 'c']))"
      ],
      "execution_count": 66,
      "outputs": [
        {
          "output_type": "execute_result",
          "data": {
            "text/plain": [
              "[('a', 'b', 'c'),\n",
              " ('a', 'c', 'b'),\n",
              " ('b', 'a', 'c'),\n",
              " ('b', 'c', 'a'),\n",
              " ('c', 'a', 'b'),\n",
              " ('c', 'b', 'a')]"
            ]
          },
          "metadata": {
            "tags": []
          },
          "execution_count": 66
        }
      ]
    },
    {
      "cell_type": "code",
      "metadata": {
        "id": "QvcLES7b_sA_"
      },
      "source": [
        "a_list = [i for i in range(10,20, 2)]"
      ],
      "execution_count": 68,
      "outputs": []
    },
    {
      "cell_type": "code",
      "metadata": {
        "colab": {
          "base_uri": "https://localhost:8080/"
        },
        "id": "7bcoYWpuAj6Q",
        "outputId": "6d556f52-0ba8-461a-e88d-0ced1cbfca70"
      },
      "source": [
        "a_list"
      ],
      "execution_count": 69,
      "outputs": [
        {
          "output_type": "execute_result",
          "data": {
            "text/plain": [
              "[10, 12, 14, 16, 18]"
            ]
          },
          "metadata": {
            "tags": []
          },
          "execution_count": 69
        }
      ]
    },
    {
      "cell_type": "code",
      "metadata": {
        "colab": {
          "base_uri": "https://localhost:8080/"
        },
        "id": "whobgU3UAnt4",
        "outputId": "4cea75f4-d473-4eea-c3f4-589a2ebbe35a"
      },
      "source": [
        "list(map(lambda x: x **2, a_list))"
      ],
      "execution_count": 70,
      "outputs": [
        {
          "output_type": "execute_result",
          "data": {
            "text/plain": [
              "[100, 144, 196, 256, 324]"
            ]
          },
          "metadata": {
            "tags": []
          },
          "execution_count": 70
        }
      ]
    },
    {
      "cell_type": "code",
      "metadata": {
        "colab": {
          "base_uri": "https://localhost:8080/"
        },
        "id": "Z-5RekP_Au_-",
        "outputId": "56d19bf0-5a2f-4e85-c13f-9e59baa26e0e"
      },
      "source": [
        "list(map(str, a_list))"
      ],
      "execution_count": 71,
      "outputs": [
        {
          "output_type": "execute_result",
          "data": {
            "text/plain": [
              "['10', '12', '14', '16', '18']"
            ]
          },
          "metadata": {
            "tags": []
          },
          "execution_count": 71
        }
      ]
    },
    {
      "cell_type": "code",
      "metadata": {
        "id": "bGCaQjmXA1Bk"
      },
      "source": [
        "grades = (88, 81, 67, 34, 40, 60)\n"
      ],
      "execution_count": 72,
      "outputs": []
    },
    {
      "cell_type": "code",
      "metadata": {
        "id": "CfdQleayBEDc"
      },
      "source": [
        "def func(x):\n",
        "  if x >= 90:\n",
        "    return 'A'\n",
        "  elif x >=80 and x <90:\n",
        "    return 'B'\n",
        "  elif x >=70 and x <80:\n",
        "    return 'C'\n",
        "  elif x >=60 and x <70:\n",
        "    return 'D'\n",
        "  elif x >=50 and x < 60:\n",
        "    return 'E'\n",
        "  else:\n",
        "    return 'F'\n",
        "  "
      ],
      "execution_count": 73,
      "outputs": []
    },
    {
      "cell_type": "code",
      "metadata": {
        "colab": {
          "base_uri": "https://localhost:8080/"
        },
        "id": "57S5WIm0B2Dw",
        "outputId": "163f3f5a-123b-4ede-c6fb-9a640dd63908"
      },
      "source": [
        "list(map(func, grades))"
      ],
      "execution_count": 74,
      "outputs": [
        {
          "output_type": "execute_result",
          "data": {
            "text/plain": [
              "['B', 'B', 'D', 'F', 'F', 'D']"
            ]
          },
          "metadata": {
            "tags": []
          },
          "execution_count": 74
        }
      ]
    },
    {
      "cell_type": "code",
      "metadata": {
        "colab": {
          "base_uri": "https://localhost:8080/"
        },
        "id": "ENwqdVqeB6S5",
        "outputId": "ba9a6414-2237-4cbe-fbaf-0078f3f9cdff"
      },
      "source": [
        "list(filter(lambda x: type(x) == str, ['A', 2, 3, 4, 'C']))"
      ],
      "execution_count": 78,
      "outputs": [
        {
          "output_type": "execute_result",
          "data": {
            "text/plain": [
              "['A', 'C']"
            ]
          },
          "metadata": {
            "tags": []
          },
          "execution_count": 78
        }
      ]
    },
    {
      "cell_type": "code",
      "metadata": {
        "id": "xGDqpq0TFXFC"
      },
      "source": [
        ""
      ],
      "execution_count": null,
      "outputs": []
    }
  ]
}